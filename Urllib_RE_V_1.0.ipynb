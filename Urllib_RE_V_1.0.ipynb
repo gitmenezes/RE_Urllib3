{
 "cells": [
  {
   "cell_type": "markdown",
   "id": "3b2622da",
   "metadata": {},
   "source": [
    "## Expressões Regulares e Urllib3\n",
    "---\n",
    "### Extração de SubLinks\n",
    "\n",
    "---\n",
    "### References\n",
    "> ##### [Urllib3](https://urllib3.readthedocs.io/en/stable/reference/index.html)\n",
    " >##### [RE(Exppressões Regulares)](https://docs.python.org/3/library/re.html)\n",
    "\n",
    "##### [⚡️⚡️⚡️⚡️⚡️ Leia  - Robots.txt](https://pt.wikipedia.org/wiki/Protocolo_de_exclus%C3%A3o_de_rob%C3%B4s)"
   ]
  },
  {
   "cell_type": "code",
   "execution_count": null,
   "id": "622c8e7e",
   "metadata": {},
   "outputs": [],
   "source": [
    "import urllib3\n",
    "import re"
   ]
  },
  {
   "cell_type": "code",
   "execution_count": null,
   "id": "f2b76df6",
   "metadata": {},
   "outputs": [],
   "source": [
    "class Get_links():\n",
    "    '''\n",
    "    links_list -> retorna os links extraídos\n",
    "    ex.:\n",
    "        variavel = Get_links() -> encapsulamento da classe\n",
    "        variavel.links_list() --> imprimi os links extraídos\n",
    "        \n",
    "    '''\n",
    "    def links_list(self,url):\n",
    "        \"\"\"\n",
    "        url = string \n",
    "            ex:'http://www.site.com'\n",
    "        \"\"\"\n",
    "    #Realizar conexões com os sites\n",
    "        hosts = urllib3.PoolManager()\n",
    "        \n",
    "    \n",
    "    # Recebe dados do host via GET\n",
    "        \n",
    "        html = hosts.request('GET',url)\n",
    "    \n",
    "    # Verifica o Status da conexão\n",
    "        if html.status == 200:\n",
    "            print('Conexão realizada com sucesso!!')\n",
    "        else:\n",
    "            print(f'Conexão retornou:{html.status}')\n",
    "        \n",
    "    # Extração dos links e armazenamento na variável\n",
    "        armazena = set() # armazena dados não repetidos\n",
    "        links = re.findall('.\"(htt.*?)\"',str(html.data))  \n",
    "        for x in links:\n",
    "            if not \" \" in x: # Exclui links com espaço em branco\n",
    "                armazena.add(x)\n",
    "    \n",
    "    # Retorna os Links extraídos\n",
    "    \n",
    "        return armazena\n",
    "    "
   ]
  },
  {
   "cell_type": "code",
   "execution_count": null,
   "id": "e4a3a49b",
   "metadata": {},
   "outputs": [],
   "source": [
    "# Imprimir os Links\n",
    "dados = Get_links()\n"
   ]
  },
  {
   "cell_type": "code",
   "execution_count": null,
   "id": "e01a80f4",
   "metadata": {},
   "outputs": [],
   "source": [
    "url = 'http://www.sorria.com.br'\n",
    "subLinks = dados.links_list(url)"
   ]
  },
  {
   "cell_type": "code",
   "execution_count": null,
   "id": "42441f4e",
   "metadata": {},
   "outputs": [],
   "source": [
    "# Impressão dos Links encontrados\n",
    "for x in subLinks:\n",
    "    print(x)\n"
   ]
  },
  {
   "cell_type": "code",
   "execution_count": null,
   "id": "a7e4157b",
   "metadata": {},
   "outputs": [],
   "source": [
    "# Quantidade de Links\n",
    "print(f'Foran localizados {len(subLinks)} link(s)!')"
   ]
  },
  {
   "cell_type": "code",
   "execution_count": null,
   "id": "b9684dcf",
   "metadata": {},
   "outputs": [],
   "source": []
  }
 ],
 "metadata": {
  "kernelspec": {
   "display_name": "Python 3",
   "language": "python",
   "name": "python3"
  },
  "language_info": {
   "codemirror_mode": {
    "name": "ipython",
    "version": 3
   },
   "file_extension": ".py",
   "mimetype": "text/x-python",
   "name": "python",
   "nbconvert_exporter": "python",
   "pygments_lexer": "ipython3",
   "version": "3.8.8"
  }
 },
 "nbformat": 4,
 "nbformat_minor": 5
}
